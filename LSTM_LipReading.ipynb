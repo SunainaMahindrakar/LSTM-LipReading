{
 "cells": [
  {
   "cell_type": "code",
   "execution_count": 46,
   "metadata": {},
   "outputs": [],
   "source": [
    "import numpy\n",
    "from keras.datasets import imdb\n",
    "from keras.models import Sequential\n",
    "from keras.layers import Dense\n",
    "from keras.layers import LSTM\n",
    "from keras.layers.embeddings import Embedding\n",
    "from keras.preprocessing import sequence\n",
    "# fix random seed for reproducibility\n",
    "numpy.random.seed(7)"
   ]
  },
  {
   "cell_type": "code",
   "execution_count": 39,
   "metadata": {},
   "outputs": [],
   "source": [
    "# load the dataset but only keep the top n words, zero the rest\n",
    "#top_words = 5000\n",
    "#(X_train, y_train), (X_test, y_test) = imdb.load_data(num_words=top_words)\n",
    "X_train=numpy.array([ \n",
    "list([150,146,142,131,138,131,129,128,125,125,128,130,127]),\n",
    "list([174,164,157,154,156,161,152,129,99,120,97,104,127,150,150,138,137,136,138,134,141,136,132,132,130]),\n",
    "list([90,104,93,92,89,86,75,84,70,96]),\n",
    "list([106,99,112,108,103,103,104,89,80,89,88,92,96,99,96,90,70,120,73]),\n",
    "list([123,134,137,134,116,128,128,130,109,118,94,121,111]),\n",
    "list([111,76,83,84,102,98,83,76,93,85,101,97,117]),\n",
    "list([134,145,136,117,104,107,111,106,109,119]),\n",
    "list([121,126,125,128,126,126,108,134,138,126,108,91,80,75,75,75,70,120,73]),\n",
    "list([204,139,144,192,152,116,127,158,161,161,150,134,132,129,129,128,136,122,146,152,153,151]),\n",
    "list([144,147,142,98,139,138,134,134,133,132,125,117,116,120,98,134,138,136,137,137,141,131]),\n",
    "list([100,96,126,87,84,88,96,104,110,101,104,102,100,89,92,98]) \n",
    "])\n",
    "\n",
    "\n",
    "y_train=numpy.array([1,1,1,1,1,1,1,1,0,0,0])\n",
    "\n",
    "X_test=numpy.array([ \n",
    "list([133,139,143,150,156,159,119,151,131,104,99,99,103,124,140,146,145,112,142,142,137,139]),\n",
    "list([112,115,111,109,106,106,94,114,88,86,92,99,104,91,91,93]),\n",
    "list([108,113,93,116,98,104,93]),\n",
    "list([130,121,118,113,113,113,116,116,118,123,129,123,119,123,125,126,123,119,123]),\n",
    "list([98,82,77,85,92,101,112,121,141,134,141,134,106,85,71,73,72,125,73]) \n",
    "])\n",
    "\n",
    "y_test=numpy.array([1,1,1,0,0])\n"
   ]
  },
  {
   "cell_type": "code",
   "execution_count": 40,
   "metadata": {},
   "outputs": [
    {
     "name": "stdout",
     "output_type": "stream",
     "text": [
      "(11,)\n",
      "(11,)\n",
      "(5,)\n",
      "(5,)\n",
      "[list([133, 139, 143, 150, 156, 159, 119, 151, 131, 104, 99, 99, 103, 124, 140, 146, 145, 112, 142, 142, 137, 139])\n",
      " list([112, 115, 111, 109, 106, 106, 94, 114, 88, 86, 92, 99, 104, 91, 91, 93])\n",
      " list([108, 113, 93, 116, 98, 104, 93])\n",
      " list([130, 121, 118, 113, 113, 113, 116, 116, 118, 123, 129, 123, 119, 123, 125, 126, 123, 119, 123])\n",
      " list([98, 82, 77, 85, 92, 101, 112, 121, 141, 134, 141, 134, 106, 85, 71, 73, 72, 125, 73])]\n",
      "[1 1 1 1 1 1 1 1 0 0 0]\n"
     ]
    }
   ],
   "source": [
    "# msp\n",
    "print(X_train.shape)\n",
    "print(y_train.shape)\n",
    "print(X_test.shape)\n",
    "print(y_test.shape)\n",
    "print(X_test)\n",
    "print(y_train)"
   ]
  },
  {
   "cell_type": "code",
   "execution_count": 41,
   "metadata": {},
   "outputs": [],
   "source": [
    "# truncate and pad input sequences\n",
    "max_review_length = 25\n",
    "X_train = sequence.pad_sequences(X_train, maxlen=max_review_length)\n",
    "X_test = sequence.pad_sequences(X_test, maxlen=max_review_length)"
   ]
  },
  {
   "cell_type": "code",
   "execution_count": 42,
   "metadata": {},
   "outputs": [
    {
     "name": "stdout",
     "output_type": "stream",
     "text": [
      "(11, 25)\n",
      "(11,)\n",
      "(5, 25)\n",
      "(5,)\n",
      "[[  0   0   0 133 139 143 150 156 159 119 151 131 104  99  99 103 124 140\n",
      "  146 145 112 142 142 137 139]\n",
      " [  0   0   0   0   0   0   0   0   0 112 115 111 109 106 106  94 114  88\n",
      "   86  92  99 104  91  91  93]\n",
      " [  0   0   0   0   0   0   0   0   0   0   0   0   0   0   0   0   0   0\n",
      "  108 113  93 116  98 104  93]\n",
      " [  0   0   0   0   0   0 130 121 118 113 113 113 116 116 118 123 129 123\n",
      "  119 123 125 126 123 119 123]\n",
      " [  0   0   0   0   0   0  98  82  77  85  92 101 112 121 141 134 141 134\n",
      "  106  85  71  73  72 125  73]]\n",
      "[1 1 1 1 1 1 1 1 0 0 0]\n"
     ]
    }
   ],
   "source": [
    "# msp\n",
    "print(X_train.shape)\n",
    "print(y_train.shape)\n",
    "print(X_test.shape)\n",
    "print(y_test.shape)\n",
    "print(X_test)\n",
    "print(y_train)"
   ]
  },
  {
   "cell_type": "code",
   "execution_count": 43,
   "metadata": {},
   "outputs": [
    {
     "name": "stdout",
     "output_type": "stream",
     "text": [
      "(11, 25, 1)\n",
      "(5, 25, 1)\n",
      "[[[  0]\n",
      "  [  0]\n",
      "  [  0]\n",
      "  [133]\n",
      "  [139]\n",
      "  [143]\n",
      "  [150]\n",
      "  [156]\n",
      "  [159]\n",
      "  [119]\n",
      "  [151]\n",
      "  [131]\n",
      "  [104]\n",
      "  [ 99]\n",
      "  [ 99]\n",
      "  [103]\n",
      "  [124]\n",
      "  [140]\n",
      "  [146]\n",
      "  [145]\n",
      "  [112]\n",
      "  [142]\n",
      "  [142]\n",
      "  [137]\n",
      "  [139]]\n",
      "\n",
      " [[  0]\n",
      "  [  0]\n",
      "  [  0]\n",
      "  [  0]\n",
      "  [  0]\n",
      "  [  0]\n",
      "  [  0]\n",
      "  [  0]\n",
      "  [  0]\n",
      "  [112]\n",
      "  [115]\n",
      "  [111]\n",
      "  [109]\n",
      "  [106]\n",
      "  [106]\n",
      "  [ 94]\n",
      "  [114]\n",
      "  [ 88]\n",
      "  [ 86]\n",
      "  [ 92]\n",
      "  [ 99]\n",
      "  [104]\n",
      "  [ 91]\n",
      "  [ 91]\n",
      "  [ 93]]\n",
      "\n",
      " [[  0]\n",
      "  [  0]\n",
      "  [  0]\n",
      "  [  0]\n",
      "  [  0]\n",
      "  [  0]\n",
      "  [  0]\n",
      "  [  0]\n",
      "  [  0]\n",
      "  [  0]\n",
      "  [  0]\n",
      "  [  0]\n",
      "  [  0]\n",
      "  [  0]\n",
      "  [  0]\n",
      "  [  0]\n",
      "  [  0]\n",
      "  [  0]\n",
      "  [108]\n",
      "  [113]\n",
      "  [ 93]\n",
      "  [116]\n",
      "  [ 98]\n",
      "  [104]\n",
      "  [ 93]]\n",
      "\n",
      " [[  0]\n",
      "  [  0]\n",
      "  [  0]\n",
      "  [  0]\n",
      "  [  0]\n",
      "  [  0]\n",
      "  [130]\n",
      "  [121]\n",
      "  [118]\n",
      "  [113]\n",
      "  [113]\n",
      "  [113]\n",
      "  [116]\n",
      "  [116]\n",
      "  [118]\n",
      "  [123]\n",
      "  [129]\n",
      "  [123]\n",
      "  [119]\n",
      "  [123]\n",
      "  [125]\n",
      "  [126]\n",
      "  [123]\n",
      "  [119]\n",
      "  [123]]\n",
      "\n",
      " [[  0]\n",
      "  [  0]\n",
      "  [  0]\n",
      "  [  0]\n",
      "  [  0]\n",
      "  [  0]\n",
      "  [ 98]\n",
      "  [ 82]\n",
      "  [ 77]\n",
      "  [ 85]\n",
      "  [ 92]\n",
      "  [101]\n",
      "  [112]\n",
      "  [121]\n",
      "  [141]\n",
      "  [134]\n",
      "  [141]\n",
      "  [134]\n",
      "  [106]\n",
      "  [ 85]\n",
      "  [ 71]\n",
      "  [ 73]\n",
      "  [ 72]\n",
      "  [125]\n",
      "  [ 73]]]\n"
     ]
    }
   ],
   "source": [
    "X_train=X_train.reshape(X_train.shape[0],X_train.shape[1],1)\n",
    "X_test=X_test.reshape(X_test.shape[0],X_test.shape[1],1)\n",
    "print(X_train.shape)\n",
    "print(X_test.shape)\n",
    "print(X_test)"
   ]
  },
  {
   "cell_type": "code",
   "execution_count": 44,
   "metadata": {},
   "outputs": [
    {
     "name": "stdout",
     "output_type": "stream",
     "text": [
      "_________________________________________________________________\n",
      "Layer (type)                 Output Shape              Param #   \n",
      "=================================================================\n",
      "lstm_12 (LSTM)               (None, 25)                2700      \n",
      "_________________________________________________________________\n",
      "dense_5 (Dense)              (None, 1)                 26        \n",
      "=================================================================\n",
      "Total params: 2,726\n",
      "Trainable params: 2,726\n",
      "Non-trainable params: 0\n",
      "_________________________________________________________________\n",
      "None\n",
      "Train on 11 samples, validate on 5 samples\n",
      "Epoch 1/6\n",
      "11/11 [==============================] - 1s 61ms/step - loss: 0.7915 - acc: 0.2727 - val_loss: 0.7383 - val_acc: 0.4000\n",
      "Epoch 2/6\n",
      "11/11 [==============================] - 0s 1ms/step - loss: 0.7824 - acc: 0.2727 - val_loss: 0.7336 - val_acc: 0.4000\n",
      "Epoch 3/6\n",
      "11/11 [==============================] - 0s 1ms/step - loss: 0.7747 - acc: 0.2727 - val_loss: 0.7297 - val_acc: 0.4000\n",
      "Epoch 4/6\n",
      "11/11 [==============================] - 0s 1ms/step - loss: 0.7680 - acc: 0.2727 - val_loss: 0.7262 - val_acc: 0.4000\n",
      "Epoch 5/6\n",
      "11/11 [==============================] - 0s 1ms/step - loss: 0.7621 - acc: 0.2727 - val_loss: 0.7229 - val_acc: 0.4000\n",
      "Epoch 6/6\n",
      "11/11 [==============================] - 0s 1ms/step - loss: 0.7566 - acc: 0.2727 - val_loss: 0.7198 - val_acc: 0.4000\n"
     ]
    },
    {
     "data": {
      "text/plain": [
       "<keras.callbacks.History at 0x7fde08436eb8>"
      ]
     },
     "execution_count": 44,
     "metadata": {},
     "output_type": "execute_result"
    }
   ],
   "source": [
    "# create the model\n",
    "#embedding_vecor_length = 32\n",
    "model = Sequential()\n",
    "#model.add(Embedding(top_words, embedding_vecor_length, input_length=max_review_length))\n",
    "model.add(LSTM(25,input_shape=(25,1)))#msp edit\n",
    "model.add(Dense(1, activation='sigmoid'))\n",
    "model.compile(loss='binary_crossentropy', optimizer='adam', metrics=['accuracy'])\n",
    "print(model.summary())\n",
    "model.fit(X_train, y_train, validation_data=(X_test, y_test), epochs=6, batch_size=64)\n"
   ]
  },
  {
   "cell_type": "code",
   "execution_count": 45,
   "metadata": {},
   "outputs": [
    {
     "name": "stdout",
     "output_type": "stream",
     "text": [
      "Accuracy: 40.00%\n"
     ]
    }
   ],
   "source": [
    "# Final evaluation of the model\n",
    "scores = model.evaluate(X_test, y_test, verbose=0)\n",
    "print(\"Accuracy: %.2f%%\" % (scores[1]*100))"
   ]
  },
  {
   "cell_type": "code",
   "execution_count": null,
   "metadata": {},
   "outputs": [],
   "source": []
  },
  {
   "cell_type": "code",
   "execution_count": null,
   "metadata": {},
   "outputs": [],
   "source": []
  }
 ],
 "metadata": {
  "kernelspec": {
   "display_name": "Python 3",
   "language": "python",
   "name": "python3"
  },
  "language_info": {
   "codemirror_mode": {
    "name": "ipython",
    "version": 3
   },
   "file_extension": ".py",
   "mimetype": "text/x-python",
   "name": "python",
   "nbconvert_exporter": "python",
   "pygments_lexer": "ipython3",
   "version": "3.7.1"
  }
 },
 "nbformat": 4,
 "nbformat_minor": 2
}
